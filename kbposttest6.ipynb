{
  "cells": [
    {
      "cell_type": "markdown",
      "metadata": {
        "id": "44Rw_LjqhGZD"
      },
      "source": [
        "# POST TEST 6\n",
        "### NAMA : APRISA IDMA MUTIARA\n",
        "### NIM : 2209106001\n",
        "### KELAS : KECERDASAN BUATAN A1 22"
      ]
    },
    {
      "cell_type": "markdown",
      "metadata": {
        "id": "XoUujOhVhGZJ"
      },
      "source": [
        "# Import library"
      ]
    },
    {
      "cell_type": "code",
      "execution_count": 1,
      "metadata": {
        "id": "eZ-od9rkhGZT"
      },
      "outputs": [],
      "source": [
        "import pandas as pd\n",
        "import numpy as np\n",
        "import matplotlib.pyplot as plt"
      ]
    },
    {
      "cell_type": "markdown",
      "source": [
        "# Membaca dan menampilkan lima teratas dataset"
      ],
      "metadata": {
        "id": "-T9ZmYf_coI7"
      }
    },
    {
      "cell_type": "code",
      "execution_count": 2,
      "metadata": {
        "id": "a9gbCA5qhGZX"
      },
      "outputs": [],
      "source": [
        "sephora = pd.read_csv('sephora_website_dataset.csv')"
      ]
    },
    {
      "cell_type": "code",
      "source": [
        "sephora.head()"
      ],
      "metadata": {
        "colab": {
          "base_uri": "https://localhost:8080/",
          "height": 707
        },
        "id": "fQo96OEM2raN",
        "outputId": "ca51971a-2ba0-452d-d767-49e9aafbb204"
      },
      "execution_count": 3,
      "outputs": [
        {
          "output_type": "execute_result",
          "data": {
            "text/plain": [
              "        id           brand   category                            name  \\\n",
              "0  2218774  Acqua Di Parma  Fragrance  Blu Mediterraneo MINIATURE Set   \n",
              "1  2044816  Acqua Di Parma    Cologne                         Colonia   \n",
              "2  1417567  Acqua Di Parma    Perfume                Arancia di Capri   \n",
              "3  1417617  Acqua Di Parma    Perfume                Mirto di Panarea   \n",
              "4  2218766  Acqua Di Parma  Fragrance           Colonia Miniature Set   \n",
              "\n",
              "             size  rating  number_of_reviews  love  price  value_price  ...  \\\n",
              "0  5 x 0.16oz/5mL     4.0                  4  3002   66.0         75.0  ...   \n",
              "1   0.7 oz/ 20 mL     4.5                 76  2700   66.0         66.0  ...   \n",
              "2    5 oz/ 148 mL     4.5                 26  2600  180.0        180.0  ...   \n",
              "3   2.5 oz/ 74 mL     4.5                 23  2900  120.0        120.0  ...   \n",
              "4  5 x 0.16oz/5mL     3.5                  2   943   72.0         80.0  ...   \n",
              "\n",
              "  MarketingFlags  MarketingFlags_content  \\\n",
              "0           True             online only   \n",
              "1           True             online only   \n",
              "2           True             online only   \n",
              "3           True             online only   \n",
              "4           True             online only   \n",
              "\n",
              "                                             options  \\\n",
              "0                                         no options   \n",
              "1   - 0.7 oz/ 20 mL  Spray  - 1.7 oz/ 50 mL Eau d...   \n",
              "2   - 1oz/30mL Eau de Toilette  - 2.5 oz/ 74 mL E...   \n",
              "3   - 1 oz/ 30 mL Eau de Toilette Spray - 2.5 oz/...   \n",
              "4                                         no options   \n",
              "\n",
              "                                             details  \\\n",
              "0  This enchanting set comes in a specially handc...   \n",
              "1  An elegant timeless scent filled with a fresh-...   \n",
              "2  Fragrance Family: Fresh Scent Type: Fresh Citr...   \n",
              "3  Panarea near Sicily is an an island suspended ...   \n",
              "4  The Colonia Miniature Set comes in an iconic A...   \n",
              "\n",
              "                                          how_to_use  \\\n",
              "0  Suggested Usage:-Fragrance is intensified by t...   \n",
              "1                                    no instructions   \n",
              "2                                    no instructions   \n",
              "3                                    no instructions   \n",
              "4  Suggested Usage:-Fragrance is intensified by t...   \n",
              "\n",
              "                                         ingredients online_only  exclusive  \\\n",
              "0  Arancia di Capri Eau de Toilette: Alcohol Dena...           1          0   \n",
              "1                                            unknown           1          0   \n",
              "2  Alcohol Denat.- Water- Fragrance- Limonene- Li...           1          0   \n",
              "3                                            unknown           1          0   \n",
              "4  Colonia: Alcohol Denat.- Water- Fragrance- Lim...           1          0   \n",
              "\n",
              "   limited_edition  limited_time_offer  \n",
              "0                0                   0  \n",
              "1                0                   0  \n",
              "2                0                   0  \n",
              "3                0                   0  \n",
              "4                0                   0  \n",
              "\n",
              "[5 rows x 21 columns]"
            ],
            "text/html": [
              "\n",
              "  <div id=\"df-06455042-af7f-45a4-b80e-6cb2f8e4b7ca\" class=\"colab-df-container\">\n",
              "    <div>\n",
              "<style scoped>\n",
              "    .dataframe tbody tr th:only-of-type {\n",
              "        vertical-align: middle;\n",
              "    }\n",
              "\n",
              "    .dataframe tbody tr th {\n",
              "        vertical-align: top;\n",
              "    }\n",
              "\n",
              "    .dataframe thead th {\n",
              "        text-align: right;\n",
              "    }\n",
              "</style>\n",
              "<table border=\"1\" class=\"dataframe\">\n",
              "  <thead>\n",
              "    <tr style=\"text-align: right;\">\n",
              "      <th></th>\n",
              "      <th>id</th>\n",
              "      <th>brand</th>\n",
              "      <th>category</th>\n",
              "      <th>name</th>\n",
              "      <th>size</th>\n",
              "      <th>rating</th>\n",
              "      <th>number_of_reviews</th>\n",
              "      <th>love</th>\n",
              "      <th>price</th>\n",
              "      <th>value_price</th>\n",
              "      <th>...</th>\n",
              "      <th>MarketingFlags</th>\n",
              "      <th>MarketingFlags_content</th>\n",
              "      <th>options</th>\n",
              "      <th>details</th>\n",
              "      <th>how_to_use</th>\n",
              "      <th>ingredients</th>\n",
              "      <th>online_only</th>\n",
              "      <th>exclusive</th>\n",
              "      <th>limited_edition</th>\n",
              "      <th>limited_time_offer</th>\n",
              "    </tr>\n",
              "  </thead>\n",
              "  <tbody>\n",
              "    <tr>\n",
              "      <th>0</th>\n",
              "      <td>2218774</td>\n",
              "      <td>Acqua Di Parma</td>\n",
              "      <td>Fragrance</td>\n",
              "      <td>Blu Mediterraneo MINIATURE Set</td>\n",
              "      <td>5 x 0.16oz/5mL</td>\n",
              "      <td>4.0</td>\n",
              "      <td>4</td>\n",
              "      <td>3002</td>\n",
              "      <td>66.0</td>\n",
              "      <td>75.0</td>\n",
              "      <td>...</td>\n",
              "      <td>True</td>\n",
              "      <td>online only</td>\n",
              "      <td>no options</td>\n",
              "      <td>This enchanting set comes in a specially handc...</td>\n",
              "      <td>Suggested Usage:-Fragrance is intensified by t...</td>\n",
              "      <td>Arancia di Capri Eau de Toilette: Alcohol Dena...</td>\n",
              "      <td>1</td>\n",
              "      <td>0</td>\n",
              "      <td>0</td>\n",
              "      <td>0</td>\n",
              "    </tr>\n",
              "    <tr>\n",
              "      <th>1</th>\n",
              "      <td>2044816</td>\n",
              "      <td>Acqua Di Parma</td>\n",
              "      <td>Cologne</td>\n",
              "      <td>Colonia</td>\n",
              "      <td>0.7 oz/ 20 mL</td>\n",
              "      <td>4.5</td>\n",
              "      <td>76</td>\n",
              "      <td>2700</td>\n",
              "      <td>66.0</td>\n",
              "      <td>66.0</td>\n",
              "      <td>...</td>\n",
              "      <td>True</td>\n",
              "      <td>online only</td>\n",
              "      <td>- 0.7 oz/ 20 mL  Spray  - 1.7 oz/ 50 mL Eau d...</td>\n",
              "      <td>An elegant timeless scent filled with a fresh-...</td>\n",
              "      <td>no instructions</td>\n",
              "      <td>unknown</td>\n",
              "      <td>1</td>\n",
              "      <td>0</td>\n",
              "      <td>0</td>\n",
              "      <td>0</td>\n",
              "    </tr>\n",
              "    <tr>\n",
              "      <th>2</th>\n",
              "      <td>1417567</td>\n",
              "      <td>Acqua Di Parma</td>\n",
              "      <td>Perfume</td>\n",
              "      <td>Arancia di Capri</td>\n",
              "      <td>5 oz/ 148 mL</td>\n",
              "      <td>4.5</td>\n",
              "      <td>26</td>\n",
              "      <td>2600</td>\n",
              "      <td>180.0</td>\n",
              "      <td>180.0</td>\n",
              "      <td>...</td>\n",
              "      <td>True</td>\n",
              "      <td>online only</td>\n",
              "      <td>- 1oz/30mL Eau de Toilette  - 2.5 oz/ 74 mL E...</td>\n",
              "      <td>Fragrance Family: Fresh Scent Type: Fresh Citr...</td>\n",
              "      <td>no instructions</td>\n",
              "      <td>Alcohol Denat.- Water- Fragrance- Limonene- Li...</td>\n",
              "      <td>1</td>\n",
              "      <td>0</td>\n",
              "      <td>0</td>\n",
              "      <td>0</td>\n",
              "    </tr>\n",
              "    <tr>\n",
              "      <th>3</th>\n",
              "      <td>1417617</td>\n",
              "      <td>Acqua Di Parma</td>\n",
              "      <td>Perfume</td>\n",
              "      <td>Mirto di Panarea</td>\n",
              "      <td>2.5 oz/ 74 mL</td>\n",
              "      <td>4.5</td>\n",
              "      <td>23</td>\n",
              "      <td>2900</td>\n",
              "      <td>120.0</td>\n",
              "      <td>120.0</td>\n",
              "      <td>...</td>\n",
              "      <td>True</td>\n",
              "      <td>online only</td>\n",
              "      <td>- 1 oz/ 30 mL Eau de Toilette Spray - 2.5 oz/...</td>\n",
              "      <td>Panarea near Sicily is an an island suspended ...</td>\n",
              "      <td>no instructions</td>\n",
              "      <td>unknown</td>\n",
              "      <td>1</td>\n",
              "      <td>0</td>\n",
              "      <td>0</td>\n",
              "      <td>0</td>\n",
              "    </tr>\n",
              "    <tr>\n",
              "      <th>4</th>\n",
              "      <td>2218766</td>\n",
              "      <td>Acqua Di Parma</td>\n",
              "      <td>Fragrance</td>\n",
              "      <td>Colonia Miniature Set</td>\n",
              "      <td>5 x 0.16oz/5mL</td>\n",
              "      <td>3.5</td>\n",
              "      <td>2</td>\n",
              "      <td>943</td>\n",
              "      <td>72.0</td>\n",
              "      <td>80.0</td>\n",
              "      <td>...</td>\n",
              "      <td>True</td>\n",
              "      <td>online only</td>\n",
              "      <td>no options</td>\n",
              "      <td>The Colonia Miniature Set comes in an iconic A...</td>\n",
              "      <td>Suggested Usage:-Fragrance is intensified by t...</td>\n",
              "      <td>Colonia: Alcohol Denat.- Water- Fragrance- Lim...</td>\n",
              "      <td>1</td>\n",
              "      <td>0</td>\n",
              "      <td>0</td>\n",
              "      <td>0</td>\n",
              "    </tr>\n",
              "  </tbody>\n",
              "</table>\n",
              "<p>5 rows × 21 columns</p>\n",
              "</div>\n",
              "    <div class=\"colab-df-buttons\">\n",
              "\n",
              "  <div class=\"colab-df-container\">\n",
              "    <button class=\"colab-df-convert\" onclick=\"convertToInteractive('df-06455042-af7f-45a4-b80e-6cb2f8e4b7ca')\"\n",
              "            title=\"Convert this dataframe to an interactive table.\"\n",
              "            style=\"display:none;\">\n",
              "\n",
              "  <svg xmlns=\"http://www.w3.org/2000/svg\" height=\"24px\" viewBox=\"0 -960 960 960\">\n",
              "    <path d=\"M120-120v-720h720v720H120Zm60-500h600v-160H180v160Zm220 220h160v-160H400v160Zm0 220h160v-160H400v160ZM180-400h160v-160H180v160Zm440 0h160v-160H620v160ZM180-180h160v-160H180v160Zm440 0h160v-160H620v160Z\"/>\n",
              "  </svg>\n",
              "    </button>\n",
              "\n",
              "  <style>\n",
              "    .colab-df-container {\n",
              "      display:flex;\n",
              "      gap: 12px;\n",
              "    }\n",
              "\n",
              "    .colab-df-convert {\n",
              "      background-color: #E8F0FE;\n",
              "      border: none;\n",
              "      border-radius: 50%;\n",
              "      cursor: pointer;\n",
              "      display: none;\n",
              "      fill: #1967D2;\n",
              "      height: 32px;\n",
              "      padding: 0 0 0 0;\n",
              "      width: 32px;\n",
              "    }\n",
              "\n",
              "    .colab-df-convert:hover {\n",
              "      background-color: #E2EBFA;\n",
              "      box-shadow: 0px 1px 2px rgba(60, 64, 67, 0.3), 0px 1px 3px 1px rgba(60, 64, 67, 0.15);\n",
              "      fill: #174EA6;\n",
              "    }\n",
              "\n",
              "    .colab-df-buttons div {\n",
              "      margin-bottom: 4px;\n",
              "    }\n",
              "\n",
              "    [theme=dark] .colab-df-convert {\n",
              "      background-color: #3B4455;\n",
              "      fill: #D2E3FC;\n",
              "    }\n",
              "\n",
              "    [theme=dark] .colab-df-convert:hover {\n",
              "      background-color: #434B5C;\n",
              "      box-shadow: 0px 1px 3px 1px rgba(0, 0, 0, 0.15);\n",
              "      filter: drop-shadow(0px 1px 2px rgba(0, 0, 0, 0.3));\n",
              "      fill: #FFFFFF;\n",
              "    }\n",
              "  </style>\n",
              "\n",
              "    <script>\n",
              "      const buttonEl =\n",
              "        document.querySelector('#df-06455042-af7f-45a4-b80e-6cb2f8e4b7ca button.colab-df-convert');\n",
              "      buttonEl.style.display =\n",
              "        google.colab.kernel.accessAllowed ? 'block' : 'none';\n",
              "\n",
              "      async function convertToInteractive(key) {\n",
              "        const element = document.querySelector('#df-06455042-af7f-45a4-b80e-6cb2f8e4b7ca');\n",
              "        const dataTable =\n",
              "          await google.colab.kernel.invokeFunction('convertToInteractive',\n",
              "                                                    [key], {});\n",
              "        if (!dataTable) return;\n",
              "\n",
              "        const docLinkHtml = 'Like what you see? Visit the ' +\n",
              "          '<a target=\"_blank\" href=https://colab.research.google.com/notebooks/data_table.ipynb>data table notebook</a>'\n",
              "          + ' to learn more about interactive tables.';\n",
              "        element.innerHTML = '';\n",
              "        dataTable['output_type'] = 'display_data';\n",
              "        await google.colab.output.renderOutput(dataTable, element);\n",
              "        const docLink = document.createElement('div');\n",
              "        docLink.innerHTML = docLinkHtml;\n",
              "        element.appendChild(docLink);\n",
              "      }\n",
              "    </script>\n",
              "  </div>\n",
              "\n",
              "\n",
              "<div id=\"df-fb340d89-03a1-4bbc-a566-b9dd21a3d750\">\n",
              "  <button class=\"colab-df-quickchart\" onclick=\"quickchart('df-fb340d89-03a1-4bbc-a566-b9dd21a3d750')\"\n",
              "            title=\"Suggest charts.\"\n",
              "            style=\"display:none;\">\n",
              "\n",
              "<svg xmlns=\"http://www.w3.org/2000/svg\" height=\"24px\"viewBox=\"0 0 24 24\"\n",
              "     width=\"24px\">\n",
              "    <g>\n",
              "        <path d=\"M19 3H5c-1.1 0-2 .9-2 2v14c0 1.1.9 2 2 2h14c1.1 0 2-.9 2-2V5c0-1.1-.9-2-2-2zM9 17H7v-7h2v7zm4 0h-2V7h2v10zm4 0h-2v-4h2v4z\"/>\n",
              "    </g>\n",
              "</svg>\n",
              "  </button>\n",
              "\n",
              "<style>\n",
              "  .colab-df-quickchart {\n",
              "      --bg-color: #E8F0FE;\n",
              "      --fill-color: #1967D2;\n",
              "      --hover-bg-color: #E2EBFA;\n",
              "      --hover-fill-color: #174EA6;\n",
              "      --disabled-fill-color: #AAA;\n",
              "      --disabled-bg-color: #DDD;\n",
              "  }\n",
              "\n",
              "  [theme=dark] .colab-df-quickchart {\n",
              "      --bg-color: #3B4455;\n",
              "      --fill-color: #D2E3FC;\n",
              "      --hover-bg-color: #434B5C;\n",
              "      --hover-fill-color: #FFFFFF;\n",
              "      --disabled-bg-color: #3B4455;\n",
              "      --disabled-fill-color: #666;\n",
              "  }\n",
              "\n",
              "  .colab-df-quickchart {\n",
              "    background-color: var(--bg-color);\n",
              "    border: none;\n",
              "    border-radius: 50%;\n",
              "    cursor: pointer;\n",
              "    display: none;\n",
              "    fill: var(--fill-color);\n",
              "    height: 32px;\n",
              "    padding: 0;\n",
              "    width: 32px;\n",
              "  }\n",
              "\n",
              "  .colab-df-quickchart:hover {\n",
              "    background-color: var(--hover-bg-color);\n",
              "    box-shadow: 0 1px 2px rgba(60, 64, 67, 0.3), 0 1px 3px 1px rgba(60, 64, 67, 0.15);\n",
              "    fill: var(--button-hover-fill-color);\n",
              "  }\n",
              "\n",
              "  .colab-df-quickchart-complete:disabled,\n",
              "  .colab-df-quickchart-complete:disabled:hover {\n",
              "    background-color: var(--disabled-bg-color);\n",
              "    fill: var(--disabled-fill-color);\n",
              "    box-shadow: none;\n",
              "  }\n",
              "\n",
              "  .colab-df-spinner {\n",
              "    border: 2px solid var(--fill-color);\n",
              "    border-color: transparent;\n",
              "    border-bottom-color: var(--fill-color);\n",
              "    animation:\n",
              "      spin 1s steps(1) infinite;\n",
              "  }\n",
              "\n",
              "  @keyframes spin {\n",
              "    0% {\n",
              "      border-color: transparent;\n",
              "      border-bottom-color: var(--fill-color);\n",
              "      border-left-color: var(--fill-color);\n",
              "    }\n",
              "    20% {\n",
              "      border-color: transparent;\n",
              "      border-left-color: var(--fill-color);\n",
              "      border-top-color: var(--fill-color);\n",
              "    }\n",
              "    30% {\n",
              "      border-color: transparent;\n",
              "      border-left-color: var(--fill-color);\n",
              "      border-top-color: var(--fill-color);\n",
              "      border-right-color: var(--fill-color);\n",
              "    }\n",
              "    40% {\n",
              "      border-color: transparent;\n",
              "      border-right-color: var(--fill-color);\n",
              "      border-top-color: var(--fill-color);\n",
              "    }\n",
              "    60% {\n",
              "      border-color: transparent;\n",
              "      border-right-color: var(--fill-color);\n",
              "    }\n",
              "    80% {\n",
              "      border-color: transparent;\n",
              "      border-right-color: var(--fill-color);\n",
              "      border-bottom-color: var(--fill-color);\n",
              "    }\n",
              "    90% {\n",
              "      border-color: transparent;\n",
              "      border-bottom-color: var(--fill-color);\n",
              "    }\n",
              "  }\n",
              "</style>\n",
              "\n",
              "  <script>\n",
              "    async function quickchart(key) {\n",
              "      const quickchartButtonEl =\n",
              "        document.querySelector('#' + key + ' button');\n",
              "      quickchartButtonEl.disabled = true;  // To prevent multiple clicks.\n",
              "      quickchartButtonEl.classList.add('colab-df-spinner');\n",
              "      try {\n",
              "        const charts = await google.colab.kernel.invokeFunction(\n",
              "            'suggestCharts', [key], {});\n",
              "      } catch (error) {\n",
              "        console.error('Error during call to suggestCharts:', error);\n",
              "      }\n",
              "      quickchartButtonEl.classList.remove('colab-df-spinner');\n",
              "      quickchartButtonEl.classList.add('colab-df-quickchart-complete');\n",
              "    }\n",
              "    (() => {\n",
              "      let quickchartButtonEl =\n",
              "        document.querySelector('#df-fb340d89-03a1-4bbc-a566-b9dd21a3d750 button');\n",
              "      quickchartButtonEl.style.display =\n",
              "        google.colab.kernel.accessAllowed ? 'block' : 'none';\n",
              "    })();\n",
              "  </script>\n",
              "</div>\n",
              "    </div>\n",
              "  </div>\n"
            ]
          },
          "metadata": {},
          "execution_count": 3
        }
      ]
    },
    {
      "cell_type": "markdown",
      "source": [
        "cek kolom dari dataset"
      ],
      "metadata": {
        "id": "QeSCS64_De_2"
      }
    },
    {
      "cell_type": "code",
      "source": [
        "sephora.columns"
      ],
      "metadata": {
        "colab": {
          "base_uri": "https://localhost:8080/"
        },
        "id": "kutiwZLp2oIp",
        "outputId": "ddc0d6a0-c7d6-40d3-817a-02143b980a38"
      },
      "execution_count": 4,
      "outputs": [
        {
          "output_type": "execute_result",
          "data": {
            "text/plain": [
              "Index(['id', 'brand', 'category', 'name', 'size', 'rating',\n",
              "       'number_of_reviews', 'love', 'price', 'value_price', 'URL',\n",
              "       'MarketingFlags', 'MarketingFlags_content', 'options', 'details',\n",
              "       'how_to_use', 'ingredients', 'online_only', 'exclusive',\n",
              "       'limited_edition', 'limited_time_offer'],\n",
              "      dtype='object')"
            ]
          },
          "metadata": {},
          "execution_count": 4
        }
      ]
    },
    {
      "cell_type": "markdown",
      "source": [
        "Menghapus kolom yang sekiranya tidak memiliki pengaruh terhadap target"
      ],
      "metadata": {
        "id": "Y8HuwPojDrNP"
      }
    },
    {
      "cell_type": "code",
      "source": [
        "sephora.drop(columns=['id', 'name', 'size', 'price', 'how_to_use', 'ingredients', 'details',\n",
        "                      'options', 'MarketingFlags_content', 'URL'], inplace=True)"
      ],
      "metadata": {
        "id": "Gw5TCfyg2WDV"
      },
      "execution_count": 5,
      "outputs": []
    },
    {
      "cell_type": "markdown",
      "metadata": {
        "id": "n-mdNkuQhGZa"
      },
      "source": [
        "### Cek nilai null"
      ]
    },
    {
      "cell_type": "code",
      "execution_count": 6,
      "metadata": {
        "colab": {
          "base_uri": "https://localhost:8080/"
        },
        "id": "0IZjpzMrhGZb",
        "outputId": "02d8eb22-b63b-43a5-cfda-0b74a6fb89d8"
      },
      "outputs": [
        {
          "output_type": "execute_result",
          "data": {
            "text/plain": [
              "brand                 0\n",
              "category              0\n",
              "rating                0\n",
              "number_of_reviews     0\n",
              "love                  0\n",
              "value_price           0\n",
              "MarketingFlags        0\n",
              "online_only           0\n",
              "exclusive             0\n",
              "limited_edition       0\n",
              "limited_time_offer    0\n",
              "dtype: int64"
            ]
          },
          "metadata": {},
          "execution_count": 6
        }
      ],
      "source": [
        "sephora.isnull().sum()"
      ]
    },
    {
      "cell_type": "markdown",
      "metadata": {
        "id": "eFD9cV7_hGZe"
      },
      "source": [
        "### Cek nilai duplikat"
      ]
    },
    {
      "cell_type": "code",
      "execution_count": 7,
      "metadata": {
        "colab": {
          "base_uri": "https://localhost:8080/"
        },
        "id": "FzCmorIghGZf",
        "outputId": "8a7ebf0a-208f-40af-d738-0549dc3819ec"
      },
      "outputs": [
        {
          "output_type": "stream",
          "name": "stdout",
          "text": [
            "Nilai duplikat:  9\n",
            "Nilai duplikat:  0\n"
          ]
        }
      ],
      "source": [
        "print('Nilai duplikat: ', sephora.duplicated().sum())\n",
        "sephora.drop_duplicates(inplace=True)\n",
        "print('Nilai duplikat: ', sephora.duplicated().sum())"
      ]
    },
    {
      "cell_type": "code",
      "execution_count": 8,
      "metadata": {
        "colab": {
          "base_uri": "https://localhost:8080/"
        },
        "id": "2I53nTy9hGZh",
        "outputId": "67bca589-5d59-4b41-a78b-01836a5d12be"
      },
      "outputs": [
        {
          "output_type": "stream",
          "name": "stdout",
          "text": [
            "<class 'pandas.core.frame.DataFrame'>\n",
            "Int64Index: 9159 entries, 0 to 9166\n",
            "Data columns (total 11 columns):\n",
            " #   Column              Non-Null Count  Dtype  \n",
            "---  ------              --------------  -----  \n",
            " 0   brand               9159 non-null   object \n",
            " 1   category            9159 non-null   object \n",
            " 2   rating              9159 non-null   float64\n",
            " 3   number_of_reviews   9159 non-null   int64  \n",
            " 4   love                9159 non-null   int64  \n",
            " 5   value_price         9159 non-null   float64\n",
            " 6   MarketingFlags      9159 non-null   bool   \n",
            " 7   online_only         9159 non-null   int64  \n",
            " 8   exclusive           9159 non-null   int64  \n",
            " 9   limited_edition     9159 non-null   int64  \n",
            " 10  limited_time_offer  9159 non-null   int64  \n",
            "dtypes: bool(1), float64(2), int64(6), object(2)\n",
            "memory usage: 796.0+ KB\n"
          ]
        }
      ],
      "source": [
        "sephora.info()"
      ]
    },
    {
      "cell_type": "markdown",
      "metadata": {
        "id": "jrV79R_mhGZk"
      },
      "source": [
        "### Ordinal Encoding"
      ]
    },
    {
      "cell_type": "code",
      "source": [
        "from sklearn.preprocessing import OrdinalEncoder\n",
        "\n",
        "kolom_encode = ['brand', 'category', 'MarketingFlags']\n",
        "\n",
        "sephora[\"rating\"] = sephora[\"rating\"].map({0.0: 0, 1.0: 1, 1.5: 2, 2.0: 3,\n",
        "                                           2.5: 4, 3.0: 5, 3.5: 6, 4.0: 7,\n",
        "                                           4.5: 8, 5.0: 9})\n",
        "\n",
        "encoder = OrdinalEncoder()\n",
        "sephora[kolom_encode] = encoder.fit_transform(sephora[kolom_encode])\n",
        "\n",
        "# menampilkan hasil encoder\n",
        "sephora[kolom_encode]"
      ],
      "metadata": {
        "colab": {
          "base_uri": "https://localhost:8080/",
          "height": 424
        },
        "id": "Yf3FM36DpE4s",
        "outputId": "52099989-ab78-4d3d-e07c-ad9219f2baab"
      },
      "execution_count": 9,
      "outputs": [
        {
          "output_type": "execute_result",
          "data": {
            "text/plain": [
              "      brand  category  MarketingFlags\n",
              "0       4.0      71.0             1.0\n",
              "1       4.0      28.0             1.0\n",
              "2       4.0     119.0             1.0\n",
              "3       4.0     119.0             1.0\n",
              "4       4.0      71.0             1.0\n",
              "...     ...       ...             ...\n",
              "9162  232.0     124.0             1.0\n",
              "9163  232.0      55.0             1.0\n",
              "9164  232.0      99.0             1.0\n",
              "9165  232.0     137.0             1.0\n",
              "9166  232.0     142.0             0.0\n",
              "\n",
              "[9159 rows x 3 columns]"
            ],
            "text/html": [
              "\n",
              "  <div id=\"df-3c8df1b9-6c5e-4df4-a02a-a6afcca5c831\" class=\"colab-df-container\">\n",
              "    <div>\n",
              "<style scoped>\n",
              "    .dataframe tbody tr th:only-of-type {\n",
              "        vertical-align: middle;\n",
              "    }\n",
              "\n",
              "    .dataframe tbody tr th {\n",
              "        vertical-align: top;\n",
              "    }\n",
              "\n",
              "    .dataframe thead th {\n",
              "        text-align: right;\n",
              "    }\n",
              "</style>\n",
              "<table border=\"1\" class=\"dataframe\">\n",
              "  <thead>\n",
              "    <tr style=\"text-align: right;\">\n",
              "      <th></th>\n",
              "      <th>brand</th>\n",
              "      <th>category</th>\n",
              "      <th>MarketingFlags</th>\n",
              "    </tr>\n",
              "  </thead>\n",
              "  <tbody>\n",
              "    <tr>\n",
              "      <th>0</th>\n",
              "      <td>4.0</td>\n",
              "      <td>71.0</td>\n",
              "      <td>1.0</td>\n",
              "    </tr>\n",
              "    <tr>\n",
              "      <th>1</th>\n",
              "      <td>4.0</td>\n",
              "      <td>28.0</td>\n",
              "      <td>1.0</td>\n",
              "    </tr>\n",
              "    <tr>\n",
              "      <th>2</th>\n",
              "      <td>4.0</td>\n",
              "      <td>119.0</td>\n",
              "      <td>1.0</td>\n",
              "    </tr>\n",
              "    <tr>\n",
              "      <th>3</th>\n",
              "      <td>4.0</td>\n",
              "      <td>119.0</td>\n",
              "      <td>1.0</td>\n",
              "    </tr>\n",
              "    <tr>\n",
              "      <th>4</th>\n",
              "      <td>4.0</td>\n",
              "      <td>71.0</td>\n",
              "      <td>1.0</td>\n",
              "    </tr>\n",
              "    <tr>\n",
              "      <th>...</th>\n",
              "      <td>...</td>\n",
              "      <td>...</td>\n",
              "      <td>...</td>\n",
              "    </tr>\n",
              "    <tr>\n",
              "      <th>9162</th>\n",
              "      <td>232.0</td>\n",
              "      <td>124.0</td>\n",
              "      <td>1.0</td>\n",
              "    </tr>\n",
              "    <tr>\n",
              "      <th>9163</th>\n",
              "      <td>232.0</td>\n",
              "      <td>55.0</td>\n",
              "      <td>1.0</td>\n",
              "    </tr>\n",
              "    <tr>\n",
              "      <th>9164</th>\n",
              "      <td>232.0</td>\n",
              "      <td>99.0</td>\n",
              "      <td>1.0</td>\n",
              "    </tr>\n",
              "    <tr>\n",
              "      <th>9165</th>\n",
              "      <td>232.0</td>\n",
              "      <td>137.0</td>\n",
              "      <td>1.0</td>\n",
              "    </tr>\n",
              "    <tr>\n",
              "      <th>9166</th>\n",
              "      <td>232.0</td>\n",
              "      <td>142.0</td>\n",
              "      <td>0.0</td>\n",
              "    </tr>\n",
              "  </tbody>\n",
              "</table>\n",
              "<p>9159 rows × 3 columns</p>\n",
              "</div>\n",
              "    <div class=\"colab-df-buttons\">\n",
              "\n",
              "  <div class=\"colab-df-container\">\n",
              "    <button class=\"colab-df-convert\" onclick=\"convertToInteractive('df-3c8df1b9-6c5e-4df4-a02a-a6afcca5c831')\"\n",
              "            title=\"Convert this dataframe to an interactive table.\"\n",
              "            style=\"display:none;\">\n",
              "\n",
              "  <svg xmlns=\"http://www.w3.org/2000/svg\" height=\"24px\" viewBox=\"0 -960 960 960\">\n",
              "    <path d=\"M120-120v-720h720v720H120Zm60-500h600v-160H180v160Zm220 220h160v-160H400v160Zm0 220h160v-160H400v160ZM180-400h160v-160H180v160Zm440 0h160v-160H620v160ZM180-180h160v-160H180v160Zm440 0h160v-160H620v160Z\"/>\n",
              "  </svg>\n",
              "    </button>\n",
              "\n",
              "  <style>\n",
              "    .colab-df-container {\n",
              "      display:flex;\n",
              "      gap: 12px;\n",
              "    }\n",
              "\n",
              "    .colab-df-convert {\n",
              "      background-color: #E8F0FE;\n",
              "      border: none;\n",
              "      border-radius: 50%;\n",
              "      cursor: pointer;\n",
              "      display: none;\n",
              "      fill: #1967D2;\n",
              "      height: 32px;\n",
              "      padding: 0 0 0 0;\n",
              "      width: 32px;\n",
              "    }\n",
              "\n",
              "    .colab-df-convert:hover {\n",
              "      background-color: #E2EBFA;\n",
              "      box-shadow: 0px 1px 2px rgba(60, 64, 67, 0.3), 0px 1px 3px 1px rgba(60, 64, 67, 0.15);\n",
              "      fill: #174EA6;\n",
              "    }\n",
              "\n",
              "    .colab-df-buttons div {\n",
              "      margin-bottom: 4px;\n",
              "    }\n",
              "\n",
              "    [theme=dark] .colab-df-convert {\n",
              "      background-color: #3B4455;\n",
              "      fill: #D2E3FC;\n",
              "    }\n",
              "\n",
              "    [theme=dark] .colab-df-convert:hover {\n",
              "      background-color: #434B5C;\n",
              "      box-shadow: 0px 1px 3px 1px rgba(0, 0, 0, 0.15);\n",
              "      filter: drop-shadow(0px 1px 2px rgba(0, 0, 0, 0.3));\n",
              "      fill: #FFFFFF;\n",
              "    }\n",
              "  </style>\n",
              "\n",
              "    <script>\n",
              "      const buttonEl =\n",
              "        document.querySelector('#df-3c8df1b9-6c5e-4df4-a02a-a6afcca5c831 button.colab-df-convert');\n",
              "      buttonEl.style.display =\n",
              "        google.colab.kernel.accessAllowed ? 'block' : 'none';\n",
              "\n",
              "      async function convertToInteractive(key) {\n",
              "        const element = document.querySelector('#df-3c8df1b9-6c5e-4df4-a02a-a6afcca5c831');\n",
              "        const dataTable =\n",
              "          await google.colab.kernel.invokeFunction('convertToInteractive',\n",
              "                                                    [key], {});\n",
              "        if (!dataTable) return;\n",
              "\n",
              "        const docLinkHtml = 'Like what you see? Visit the ' +\n",
              "          '<a target=\"_blank\" href=https://colab.research.google.com/notebooks/data_table.ipynb>data table notebook</a>'\n",
              "          + ' to learn more about interactive tables.';\n",
              "        element.innerHTML = '';\n",
              "        dataTable['output_type'] = 'display_data';\n",
              "        await google.colab.output.renderOutput(dataTable, element);\n",
              "        const docLink = document.createElement('div');\n",
              "        docLink.innerHTML = docLinkHtml;\n",
              "        element.appendChild(docLink);\n",
              "      }\n",
              "    </script>\n",
              "  </div>\n",
              "\n",
              "\n",
              "<div id=\"df-b29a412b-122b-4cab-a862-80a49c8240c2\">\n",
              "  <button class=\"colab-df-quickchart\" onclick=\"quickchart('df-b29a412b-122b-4cab-a862-80a49c8240c2')\"\n",
              "            title=\"Suggest charts.\"\n",
              "            style=\"display:none;\">\n",
              "\n",
              "<svg xmlns=\"http://www.w3.org/2000/svg\" height=\"24px\"viewBox=\"0 0 24 24\"\n",
              "     width=\"24px\">\n",
              "    <g>\n",
              "        <path d=\"M19 3H5c-1.1 0-2 .9-2 2v14c0 1.1.9 2 2 2h14c1.1 0 2-.9 2-2V5c0-1.1-.9-2-2-2zM9 17H7v-7h2v7zm4 0h-2V7h2v10zm4 0h-2v-4h2v4z\"/>\n",
              "    </g>\n",
              "</svg>\n",
              "  </button>\n",
              "\n",
              "<style>\n",
              "  .colab-df-quickchart {\n",
              "      --bg-color: #E8F0FE;\n",
              "      --fill-color: #1967D2;\n",
              "      --hover-bg-color: #E2EBFA;\n",
              "      --hover-fill-color: #174EA6;\n",
              "      --disabled-fill-color: #AAA;\n",
              "      --disabled-bg-color: #DDD;\n",
              "  }\n",
              "\n",
              "  [theme=dark] .colab-df-quickchart {\n",
              "      --bg-color: #3B4455;\n",
              "      --fill-color: #D2E3FC;\n",
              "      --hover-bg-color: #434B5C;\n",
              "      --hover-fill-color: #FFFFFF;\n",
              "      --disabled-bg-color: #3B4455;\n",
              "      --disabled-fill-color: #666;\n",
              "  }\n",
              "\n",
              "  .colab-df-quickchart {\n",
              "    background-color: var(--bg-color);\n",
              "    border: none;\n",
              "    border-radius: 50%;\n",
              "    cursor: pointer;\n",
              "    display: none;\n",
              "    fill: var(--fill-color);\n",
              "    height: 32px;\n",
              "    padding: 0;\n",
              "    width: 32px;\n",
              "  }\n",
              "\n",
              "  .colab-df-quickchart:hover {\n",
              "    background-color: var(--hover-bg-color);\n",
              "    box-shadow: 0 1px 2px rgba(60, 64, 67, 0.3), 0 1px 3px 1px rgba(60, 64, 67, 0.15);\n",
              "    fill: var(--button-hover-fill-color);\n",
              "  }\n",
              "\n",
              "  .colab-df-quickchart-complete:disabled,\n",
              "  .colab-df-quickchart-complete:disabled:hover {\n",
              "    background-color: var(--disabled-bg-color);\n",
              "    fill: var(--disabled-fill-color);\n",
              "    box-shadow: none;\n",
              "  }\n",
              "\n",
              "  .colab-df-spinner {\n",
              "    border: 2px solid var(--fill-color);\n",
              "    border-color: transparent;\n",
              "    border-bottom-color: var(--fill-color);\n",
              "    animation:\n",
              "      spin 1s steps(1) infinite;\n",
              "  }\n",
              "\n",
              "  @keyframes spin {\n",
              "    0% {\n",
              "      border-color: transparent;\n",
              "      border-bottom-color: var(--fill-color);\n",
              "      border-left-color: var(--fill-color);\n",
              "    }\n",
              "    20% {\n",
              "      border-color: transparent;\n",
              "      border-left-color: var(--fill-color);\n",
              "      border-top-color: var(--fill-color);\n",
              "    }\n",
              "    30% {\n",
              "      border-color: transparent;\n",
              "      border-left-color: var(--fill-color);\n",
              "      border-top-color: var(--fill-color);\n",
              "      border-right-color: var(--fill-color);\n",
              "    }\n",
              "    40% {\n",
              "      border-color: transparent;\n",
              "      border-right-color: var(--fill-color);\n",
              "      border-top-color: var(--fill-color);\n",
              "    }\n",
              "    60% {\n",
              "      border-color: transparent;\n",
              "      border-right-color: var(--fill-color);\n",
              "    }\n",
              "    80% {\n",
              "      border-color: transparent;\n",
              "      border-right-color: var(--fill-color);\n",
              "      border-bottom-color: var(--fill-color);\n",
              "    }\n",
              "    90% {\n",
              "      border-color: transparent;\n",
              "      border-bottom-color: var(--fill-color);\n",
              "    }\n",
              "  }\n",
              "</style>\n",
              "\n",
              "  <script>\n",
              "    async function quickchart(key) {\n",
              "      const quickchartButtonEl =\n",
              "        document.querySelector('#' + key + ' button');\n",
              "      quickchartButtonEl.disabled = true;  // To prevent multiple clicks.\n",
              "      quickchartButtonEl.classList.add('colab-df-spinner');\n",
              "      try {\n",
              "        const charts = await google.colab.kernel.invokeFunction(\n",
              "            'suggestCharts', [key], {});\n",
              "      } catch (error) {\n",
              "        console.error('Error during call to suggestCharts:', error);\n",
              "      }\n",
              "      quickchartButtonEl.classList.remove('colab-df-spinner');\n",
              "      quickchartButtonEl.classList.add('colab-df-quickchart-complete');\n",
              "    }\n",
              "    (() => {\n",
              "      let quickchartButtonEl =\n",
              "        document.querySelector('#df-b29a412b-122b-4cab-a862-80a49c8240c2 button');\n",
              "      quickchartButtonEl.style.display =\n",
              "        google.colab.kernel.accessAllowed ? 'block' : 'none';\n",
              "    })();\n",
              "  </script>\n",
              "</div>\n",
              "    </div>\n",
              "  </div>\n"
            ]
          },
          "metadata": {},
          "execution_count": 9
        }
      ]
    },
    {
      "cell_type": "markdown",
      "source": [
        "# Min Max Scaler"
      ],
      "metadata": {
        "id": "K4dpXA57c33a"
      }
    },
    {
      "cell_type": "code",
      "source": [
        "from sklearn.preprocessing import MinMaxScaler\n",
        "\n",
        "minmax = MinMaxScaler()\n",
        "sephora[\"love\"] = minmax.fit_transform(sephora[[\"love\"]])"
      ],
      "metadata": {
        "id": "pjUOAoy4B2T0"
      },
      "execution_count": 10,
      "outputs": []
    },
    {
      "cell_type": "markdown",
      "metadata": {
        "id": "0_T34646hGZq"
      },
      "source": [
        "# Data Split"
      ]
    },
    {
      "cell_type": "code",
      "source": [
        "from sklearn.model_selection import train_test_split\n",
        "\n",
        "X = sephora.drop(columns = 'rating', axis=1)\n",
        "y = sephora['rating']\n",
        "\n",
        "X_train, X_test, y_train, y_test = train_test_split (\n",
        "    X, y, test_size=0.025, random_state=50\n",
        ")"
      ],
      "metadata": {
        "id": "oPOIVDTuKy3S"
      },
      "execution_count": 11,
      "outputs": []
    },
    {
      "cell_type": "code",
      "source": [
        "X_test.shape"
      ],
      "metadata": {
        "colab": {
          "base_uri": "https://localhost:8080/"
        },
        "id": "yCdn-x4rqduG",
        "outputId": "9489a6a5-760d-4346-c05d-06f237a42591"
      },
      "execution_count": 12,
      "outputs": [
        {
          "output_type": "execute_result",
          "data": {
            "text/plain": [
              "(229, 10)"
            ]
          },
          "metadata": {},
          "execution_count": 12
        }
      ]
    },
    {
      "cell_type": "markdown",
      "source": [
        "# Sequential Model dan Modile Compile"
      ],
      "metadata": {
        "id": "iiLNTKEbd-3I"
      }
    },
    {
      "cell_type": "markdown",
      "source": [
        "Membuat 7 layer termasuk layer input dengan 10 atribut dan layer output menggunakan aktivasi softmax.\n",
        "\n",
        "Untuk model compile menggunakan optimizer adam, sparse_categorical_crossentropy dan metrics menggunakan accuracy."
      ],
      "metadata": {
        "id": "SaJe5dd-eCf5"
      }
    },
    {
      "cell_type": "code",
      "execution_count": 13,
      "metadata": {
        "id": "3dUmKRVYhGZy",
        "colab": {
          "base_uri": "https://localhost:8080/"
        },
        "outputId": "92ef98b2-c44b-4a43-c01e-1b02a7bbdf47"
      },
      "outputs": [
        {
          "output_type": "stream",
          "name": "stdout",
          "text": [
            "Model: \"sequential\"\n",
            "_________________________________________________________________\n",
            " Layer (type)                Output Shape              Param #   \n",
            "=================================================================\n",
            " dense (Dense)               (None, 16)                176       \n",
            "                                                                 \n",
            " dense_1 (Dense)             (None, 32)                544       \n",
            "                                                                 \n",
            " dense_2 (Dense)             (None, 64)                2112      \n",
            "                                                                 \n",
            " dense_3 (Dense)             (None, 128)               8320      \n",
            "                                                                 \n",
            " dense_4 (Dense)             (None, 256)               33024     \n",
            "                                                                 \n",
            " dense_5 (Dense)             (None, 512)               131584    \n",
            "                                                                 \n",
            " dense_6 (Dense)             (None, 10)                5130      \n",
            "                                                                 \n",
            "=================================================================\n",
            "Total params: 180890 (706.60 KB)\n",
            "Trainable params: 180890 (706.60 KB)\n",
            "Non-trainable params: 0 (0.00 Byte)\n",
            "_________________________________________________________________\n"
          ]
        }
      ],
      "source": [
        "from tensorflow.keras import layers, Sequential\n",
        "\n",
        "model = Sequential([\n",
        "    layers.Dense(16, activation='relu', input_shape=[10]),\n",
        "    layers.Dense(32, activation='relu'),\n",
        "    layers.Dense(64, activation='relu'),\n",
        "    layers.Dense(128, activation='relu'),\n",
        "    layers.Dense(256, activation='relu'),\n",
        "    layers.Dense(512, activation='relu'),\n",
        "    layers.Dense(10, activation='softmax')\n",
        "])\n",
        "\n",
        "model.compile(optimizer='adam',\n",
        "              loss='sparse_categorical_crossentropy',\n",
        "              metrics=['accuracy'])\n",
        "\n",
        "model.summary()"
      ]
    },
    {
      "cell_type": "markdown",
      "metadata": {
        "id": "77Bd3y7ShGZ0"
      },
      "source": [
        "# Callbacks dan Model Fit"
      ]
    },
    {
      "cell_type": "code",
      "source": [
        "from tensorflow.keras.callbacks import EarlyStopping\n",
        "es = EarlyStopping(\n",
        "    monitor='val_accuracy', patience=20, verbose=1, restore_best_weights=True,\n",
        ")"
      ],
      "metadata": {
        "id": "WEXeEpXZ9aBn"
      },
      "execution_count": 14,
      "outputs": []
    },
    {
      "cell_type": "code",
      "execution_count": 15,
      "metadata": {
        "id": "jsoJuikHhGZ2",
        "colab": {
          "base_uri": "https://localhost:8080/"
        },
        "outputId": "fb9928c5-93a6-4eb5-fe6e-a5960131b1da"
      },
      "outputs": [
        {
          "output_type": "stream",
          "name": "stdout",
          "text": [
            "Epoch 1/250\n",
            "224/224 [==============================] - 5s 14ms/step - loss: 1.8103 - accuracy: 0.3596 - val_loss: 1.5653 - val_accuracy: 0.3348\n",
            "Epoch 2/250\n",
            "224/224 [==============================] - 3s 13ms/step - loss: 1.4635 - accuracy: 0.3782 - val_loss: 1.3996 - val_accuracy: 0.4059\n",
            "Epoch 3/250\n",
            "224/224 [==============================] - 3s 14ms/step - loss: 1.4186 - accuracy: 0.3989 - val_loss: 1.4254 - val_accuracy: 0.3919\n",
            "Epoch 4/250\n",
            "224/224 [==============================] - 3s 13ms/step - loss: 1.3914 - accuracy: 0.4043 - val_loss: 1.3773 - val_accuracy: 0.4031\n",
            "Epoch 5/250\n",
            "224/224 [==============================] - 4s 19ms/step - loss: 1.3736 - accuracy: 0.4066 - val_loss: 1.3861 - val_accuracy: 0.4059\n",
            "Epoch 6/250\n",
            "224/224 [==============================] - 3s 13ms/step - loss: 1.3671 - accuracy: 0.4013 - val_loss: 1.3653 - val_accuracy: 0.4104\n",
            "Epoch 7/250\n",
            "224/224 [==============================] - 3s 12ms/step - loss: 1.3583 - accuracy: 0.4110 - val_loss: 1.3768 - val_accuracy: 0.4043\n",
            "Epoch 8/250\n",
            "224/224 [==============================] - 3s 14ms/step - loss: 1.3538 - accuracy: 0.4150 - val_loss: 1.3645 - val_accuracy: 0.3992\n",
            "Epoch 9/250\n",
            "224/224 [==============================] - 4s 17ms/step - loss: 1.3311 - accuracy: 0.4205 - val_loss: 1.3326 - val_accuracy: 0.4037\n",
            "Epoch 10/250\n",
            "224/224 [==============================] - 2s 7ms/step - loss: 1.3272 - accuracy: 0.4283 - val_loss: 1.2958 - val_accuracy: 0.4524\n",
            "Epoch 11/250\n",
            "224/224 [==============================] - 2s 7ms/step - loss: 1.3373 - accuracy: 0.4233 - val_loss: 1.3262 - val_accuracy: 0.4356\n",
            "Epoch 12/250\n",
            "224/224 [==============================] - 1s 6ms/step - loss: 1.3146 - accuracy: 0.4234 - val_loss: 1.3197 - val_accuracy: 0.4199\n",
            "Epoch 13/250\n",
            "224/224 [==============================] - 1s 6ms/step - loss: 1.3177 - accuracy: 0.4272 - val_loss: 1.3617 - val_accuracy: 0.4306\n",
            "Epoch 14/250\n",
            "224/224 [==============================] - 1s 6ms/step - loss: 1.3129 - accuracy: 0.4278 - val_loss: 1.3210 - val_accuracy: 0.4401\n",
            "Epoch 15/250\n",
            "224/224 [==============================] - 2s 7ms/step - loss: 1.3069 - accuracy: 0.4320 - val_loss: 1.2994 - val_accuracy: 0.4306\n",
            "Epoch 16/250\n",
            "224/224 [==============================] - 2s 9ms/step - loss: 1.2988 - accuracy: 0.4408 - val_loss: 1.3156 - val_accuracy: 0.3964\n",
            "Epoch 17/250\n",
            "224/224 [==============================] - 2s 10ms/step - loss: 1.2951 - accuracy: 0.4334 - val_loss: 1.3045 - val_accuracy: 0.4222\n",
            "Epoch 18/250\n",
            "224/224 [==============================] - 1s 7ms/step - loss: 1.2927 - accuracy: 0.4387 - val_loss: 1.2949 - val_accuracy: 0.4434\n",
            "Epoch 19/250\n",
            "224/224 [==============================] - 1s 6ms/step - loss: 1.2731 - accuracy: 0.4418 - val_loss: 1.2652 - val_accuracy: 0.4524\n",
            "Epoch 20/250\n",
            "224/224 [==============================] - 1s 6ms/step - loss: 1.2917 - accuracy: 0.4409 - val_loss: 1.3012 - val_accuracy: 0.4462\n",
            "Epoch 21/250\n",
            "224/224 [==============================] - 1s 6ms/step - loss: 1.2712 - accuracy: 0.4481 - val_loss: 1.3584 - val_accuracy: 0.4334\n",
            "Epoch 22/250\n",
            "224/224 [==============================] - 1s 6ms/step - loss: 1.2746 - accuracy: 0.4390 - val_loss: 1.3735 - val_accuracy: 0.4199\n",
            "Epoch 23/250\n",
            "224/224 [==============================] - 1s 6ms/step - loss: 1.2734 - accuracy: 0.4434 - val_loss: 1.3012 - val_accuracy: 0.4250\n",
            "Epoch 24/250\n",
            "224/224 [==============================] - 1s 6ms/step - loss: 1.2616 - accuracy: 0.4443 - val_loss: 1.2760 - val_accuracy: 0.4373\n",
            "Epoch 25/250\n",
            "224/224 [==============================] - 2s 11ms/step - loss: 1.2711 - accuracy: 0.4467 - val_loss: 1.2861 - val_accuracy: 0.4468\n",
            "Epoch 26/250\n",
            "224/224 [==============================] - 2s 8ms/step - loss: 1.2598 - accuracy: 0.4475 - val_loss: 1.2587 - val_accuracy: 0.4513\n",
            "Epoch 27/250\n",
            "224/224 [==============================] - 1s 6ms/step - loss: 1.2556 - accuracy: 0.4551 - val_loss: 1.3297 - val_accuracy: 0.4378\n",
            "Epoch 28/250\n",
            "224/224 [==============================] - 1s 6ms/step - loss: 1.2486 - accuracy: 0.4510 - val_loss: 1.2806 - val_accuracy: 0.4418\n",
            "Epoch 29/250\n",
            "224/224 [==============================] - 1s 6ms/step - loss: 1.2404 - accuracy: 0.4607 - val_loss: 1.2569 - val_accuracy: 0.4502\n",
            "Epoch 30/250\n",
            "223/224 [============================>.] - ETA: 0s - loss: 1.2474 - accuracy: 0.4510Restoring model weights from the end of the best epoch: 10.\n",
            "224/224 [==============================] - 1s 7ms/step - loss: 1.2472 - accuracy: 0.4509 - val_loss: 1.3340 - val_accuracy: 0.4362\n",
            "Epoch 30: early stopping\n"
          ]
        }
      ],
      "source": [
        "fit = model.fit(X_train, y_train, epochs=250, validation_split=0.2, callbacks=[es])"
      ]
    },
    {
      "cell_type": "markdown",
      "source": [
        "Cek Akurasi dengan accuracy score"
      ],
      "metadata": {
        "id": "g0tqzWmJo8Of"
      }
    },
    {
      "cell_type": "code",
      "execution_count": 16,
      "metadata": {
        "id": "Gn6gIh84hGZ6",
        "colab": {
          "base_uri": "https://localhost:8080/"
        },
        "outputId": "63671e20-bc41-4506-f434-7ff2a4e08a52"
      },
      "outputs": [
        {
          "output_type": "stream",
          "name": "stdout",
          "text": [
            "8/8 [==============================] - 0s 3ms/step\n",
            "Accuracy Score:  0.38427947598253276\n"
          ]
        }
      ],
      "source": [
        "from sklearn.metrics import accuracy_score\n",
        "\n",
        "y_pred = model.predict(X_test)\n",
        "y_pred_class = np.argmax(y_pred, axis=1)\n",
        "score = accuracy_score(y_test, y_pred_class)\n",
        "print(\"Accuracy Score: \", score)"
      ]
    },
    {
      "cell_type": "markdown",
      "source": [
        "# Grafik"
      ],
      "metadata": {
        "id": "Xxlim8aqpBOO"
      }
    },
    {
      "cell_type": "code",
      "execution_count": 17,
      "metadata": {
        "id": "yAe9CmwvhGZ8",
        "colab": {
          "base_uri": "https://localhost:8080/",
          "height": 504
        },
        "outputId": "b9dc167e-eb46-471e-8a52-8e9645d3fc2e"
      },
      "outputs": [
        {
          "output_type": "execute_result",
          "data": {
            "text/plain": [
              "Text(0, 0.5, 'loss')"
            ]
          },
          "metadata": {},
          "execution_count": 17
        },
        {
          "output_type": "display_data",
          "data": {
            "text/plain": [
              "<Figure size 1000x500 with 2 Axes>"
            ],
            "image/png": "[encoded data removed]"
          },
          "metadata": {}
        }
      ],
      "source": [
        "plt.figure(figsize=(10,5))\n",
        "plt.subplot(1, 2, 1)\n",
        "plt.plot(fit.history['accuracy'], label='accuracy')\n",
        "plt.plot(fit.history['val_accuracy'], label = 'validation accuracy')\n",
        "plt.legend()\n",
        "plt.title(\"model accuracy\")\n",
        "plt.xlabel(\"epochs\")\n",
        "plt.ylabel(\"accuracy\")\n",
        "\n",
        "plt.subplot(1, 2, 2)\n",
        "plt.plot(fit.history['loss'], label='loss')\n",
        "plt.plot(fit.history['val_loss'], label = 'validation loss')\n",
        "plt.legend()\n",
        "plt.title(\"model loss\")\n",
        "plt.xlabel(\"epochs\")\n",
        "plt.ylabel(\"loss\")"
      ]
    }
  ],
  "metadata": {
    "kernelspec": {
      "display_name": "Aprisa_001",
      "language": "python",
      "name": "python3"
    },
    "language_info": {
      "codemirror_mode": {
        "name": "ipython",
        "version": 3
      },
      "file_extension": ".py",
      "mimetype": "text/x-python",
      "name": "python",
      "nbconvert_exporter": "python",
      "pygments_lexer": "ipython3",
      "version": "3.10.7"
    },
    "colab": {
      "provenance": []
    }
  },
  "nbformat": 4,
  "nbformat_minor": 0
}